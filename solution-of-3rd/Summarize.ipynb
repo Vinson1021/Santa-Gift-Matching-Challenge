{
 "cells": [
  {
   "cell_type": "markdown",
   "metadata": {
    "ExecuteTime": {
     "end_time": "2018-12-19T07:31:13.600681Z",
     "start_time": "2018-12-19T07:31:13.593900Z"
    }
   },
   "source": [
    "### Summarize 1（文harada/notebook下面的文件）\n",
    "### 到目前为止对Children中的操作实际为：\n",
    "记$C_i$表示第i个孩子，$G_j$表示第$j$个礼物，$H_{i,j}$表示第$i$个孩子偏爱第$j$个礼物的得分，$H_{j,i}$表示第j个礼物更偏爱第$i$个孩子的得分，prefer_dict[j]代表的是第i个孩子与第j个礼物之间的相互偏爱得分$[H_{i,j},H_{j,i}]$，其中只有一个得分值存在则对于第i个孩子prefer_dict[j]存在\n",
    "- 1.从孩子偏爱的礼物出发，可求出存在的$H_{i,j}$,此时第i个孩子的prefer_dict[j]=$[H_{i,j},-6]$\n",
    "- 2.从礼物偏爱的孩子出发，可求出存在的$H_{j,i}$,此时如果prefer_dict[j]已经存在$[H_{i,j},-6]$，则直接将-6替换为$H_{j,i}$,否则开辟新的prefer_dict[j]=$[-6，H_{j,i}]$\n",
    "**综上prefer_dict存储的是双方中只要有一方有偏爱的得分。**<mark>如果都没有，则根本不存在，孩子i对应礼物j的prefer_dict[j]</mark>"
   ]
  }
 ],
 "metadata": {
  "kernelspec": {
   "display_name": "Python 3",
   "language": "python",
   "name": "python3"
  },
  "language_info": {
   "codemirror_mode": {
    "name": "ipython",
    "version": 3
   },
   "file_extension": ".py",
   "mimetype": "text/x-python",
   "name": "python",
   "nbconvert_exporter": "python",
   "pygments_lexer": "ipython3",
   "version": "3.6.5"
  }
 },
 "nbformat": 4,
 "nbformat_minor": 2
}
