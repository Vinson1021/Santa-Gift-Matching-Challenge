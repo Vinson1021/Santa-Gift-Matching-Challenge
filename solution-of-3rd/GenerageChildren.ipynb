{
 "cells": [
  {
   "cell_type": "code",
   "execution_count": null,
   "metadata": {},
   "outputs": [],
   "source": [
    "import numpy as np # linear algebra\n",
    "import pandas as pd # data processing, CSV file I/O (e.g. pd.read_csv)\n",
    "import math\n",
    "from collections import Counter\n",
    "from subprocess import check_output\n",
    "#看看文件是否存在，并且是不是用utf8\n",
    "print(check_output([\"ls\", \"input\"]).decode(\"utf8\"))"
   ]
  },
  {
   "cell_type": "code",
   "execution_count": null,
   "metadata": {},
   "outputs": [],
   "source": [
    "#孩子喜欢的礼物\n",
    "gift_pref = pd.read_csv('input/child_wishlist_v2.csv',header=None).drop(0, 1).values\n",
    "#礼物喜欢的孩子\n",
    "child_pref = pd.read_csv('input/gift_goodkids_v2.csv',header=None).drop(0, 1).values"
   ]
  },
  {
   "cell_type": "code",
   "execution_count": null,
   "metadata": {},
   "outputs": [],
   "source": [
    "#有1000000个children\n",
    "n_children = 1000000 \n",
    "#1000种gift\n",
    "n_gift_type = 1000\n",
    "#每种gift1000个\n",
    "n_gift_quantity = 1000 \n",
    "#每个孩子有喜欢的100个礼物。(孩子开心)\n",
    "n_gift_pref = 100 # number of gifts a child ranks\n",
    "#每个礼物优先考虑1000个好孩子（圣诞老人开心）\n",
    "n_child_pref = 1000 # number of children a gift ranks\n",
    "#0-5000为三胞胎，triplets=50001 0.5%\n",
    "triplets = math.ceil(0.005 * n_children / 3.) * 3    \n",
    "#5001-45000双胞胎，即45000-5001+1=40000\n",
    "twins = math.ceil(0.04 * n_children / 2.) * 2    \n",
    "#根据目标函数里面定义的\n",
    "ratio_gift_happiness = 2\n",
    "ratio_child_happiness = 2"
   ]
  },
  {
   "cell_type": "code",
   "execution_count": null,
   "metadata": {},
   "outputs": [],
   "source": [
    "#三胞胎孩子\n",
    "def Triplet_Hij(Children,prefer1, prefer2, prefer3):\n",
    "    res=[[],[],[]]\n",
    "    for p in list(set(list(prefer1) + list(prefer2) + list(prefer3))):        \n",
    "        score = 0\n",
    "        #对于三胞胎中的第一个人，偏爱有各种礼物的得分\n",
    "        if p in list(prefer1):\n",
    "            score += 2*(100 - list(prefer1).index(p))\n",
    "        else:\n",
    "            score -= 1\n",
    "        #对于三胞胎中的第二个人\n",
    "        if p in list(prefer2):\n",
    "            score += 2*(100 - list(prefer2).index(p))\n",
    "        else:\n",
    "            score -= 1\n",
    "        #对于三胞胎中的第三个人\n",
    "        if p in list(prefer3):\n",
    "            score += 2*(100 - list(prefer3).index(p))\n",
    "        else:\n",
    "            score -= 1\n",
    "        res[0].append(p)\n",
    "        res[1].append(2*score)\n",
    "        res[2].append(-6)\n",
    "    Children.append(res)\n",
    "    Children.append(res)\n",
    "    Children.append(res)"
   ]
  },
  {
   "cell_type": "code",
   "execution_count": null,
   "metadata": {},
   "outputs": [],
   "source": [
    "def Twin_Hij(Children,prefer1, prefer2):\n",
    "    res=[[],[],[]]\n",
    "    for p in list(set(list(prefer1) + list(prefer2))):\n",
    "        score = 0\n",
    "        if p in list(prefer1):\n",
    "            score += 2*(100 - list(prefer1).index(p))\n",
    "        else:\n",
    "            score -= 1\n",
    "        if p in list(prefer2):\n",
    "            score += 2*(100 - list(prefer2).index(p))\n",
    "        else:\n",
    "            score -= 1\n",
    "        res[0].append(p)\n",
    "        res[1].append(3*score)\n",
    "        res[2].append(-6)\n",
    "    Children.append(res)\n",
    "    Children.append(res) "
   ]
  },
  {
   "cell_type": "code",
   "execution_count": null,
   "metadata": {},
   "outputs": [],
   "source": [
    "#普通孩子子\n",
    "def Child_Hij(Children,prefer):\n",
    "    res=[[],[],[]]\n",
    "    for i in range(prefer.shape[0]):\n",
    "        score = 12*(prefer.shape[0] - i)\n",
    "        res[0].append(prefer[i])\n",
    "        res[1].append(score)\n",
    "        res[2].append(-6)\n",
    "    Children.append(res)"
   ]
  },
  {
   "cell_type": "code",
   "execution_count": null,
   "metadata": {},
   "outputs": [],
   "source": [
    "#处理孩子偏爱的礼物\n",
    "Children1=[]\n",
    "for i in range(0, 5001, 3):\n",
    "    Triplet_Hij(Children1,gift_pref[i], gift_pref[i+1], gift_pref[i+2])\n",
    "for i in range(5001, 45001, 2):\n",
    "    Twin_Hij(Children1,gift_pref[i], gift_pref[i+1])\n",
    "for i in range(45001, 1000000):\n",
    "    Child_Hij(Children1,gift_pref[i])"
   ]
  },
  {
   "cell_type": "code",
   "execution_count": null,
   "metadata": {},
   "outputs": [],
   "source": [
    "def index_of(in_list,val):\n",
    "    try:\n",
    "        return in_list.index(val)\n",
    "    except ValueError:\n",
    "        return -1 "
   ]
  },
  {
   "cell_type": "code",
   "execution_count": null,
   "metadata": {},
   "outputs": [],
   "source": [
    "#处理礼物偏爱的孩子\n",
    "for j in range(1000):\n",
    "    #每类礼物更偏爱的孩子\n",
    "    cf = child_pref[j]\n",
    "    done_list = []\n",
    "    for i in range(cf.shape[0]):\n",
    "        #同一礼物如果是三胞胎则以三胞胎中最先出现的为主。\n",
    "        if cf[i] <= 5000 and cf[i] not in done_list:\n",
    "            if cf[i] % 3 == 0:\n",
    "                cid1 = cf[i]\n",
    "                cid2 = cf[i] + 1\n",
    "                cid3 = cf[i] + 2\n",
    "                done_list.append(cid2)\n",
    "                done_list.append(cid3)\n",
    "            elif cf[i] % 3 == 1:\n",
    "                cid1 = cf[i] - 1\n",
    "                cid2 = cf[i]\n",
    "                cid3 = cf[i] + 1\n",
    "                done_list.append(cid1)\n",
    "                done_list.append(cid3)\n",
    "            else:\n",
    "                cid1 = cf[i] - 2\n",
    "                cid2 = cf[i] - 1\n",
    "                cid3 = cf[i]\n",
    "                done_list.append(cid1)\n",
    "                done_list.append(cid2)\n",
    "            if cid1 in list(cf):\n",
    "                score_ = 2*(cf.shape[0] - list(cf).index(cid1))\n",
    "            else:\n",
    "                score_ = -1\n",
    "            if cid2 in list(cf):\n",
    "                score_ += 2*(cf.shape[0] - list(cf).index(cid2))\n",
    "            else:\n",
    "                score_ += -1\n",
    "            if cid3 in list(cf):\n",
    "                score_ += 2*(cf.shape[0] - list(cf).index(cid3))\n",
    "            else:\n",
    "                score_ += -1\n",
    "            #判断孩子(cid1)是否偏爱礼物(j)\n",
    "            index_triplet_pref=index_of(Children[cid1][0],j)\n",
    "            #存在修改\n",
    "            if index_triplet_pref>-1:\n",
    "                #修改Hji\n",
    "                Children[cid1][2][index_triplet_pref]=2*score_\n",
    "                Children[cid2][2][index_triplet_pref]=2*score_\n",
    "                Children[cid3][2][index_triplet_pref]=2*score_\n",
    "            else:\n",
    "                #要添加\n",
    "                Children[cid1][1].append(-6)\n",
    "                Children[cid2][1].append(-6)\n",
    "                Children[cid3][1].append(-6)\n",
    "                Children[cid1][2].append(2*score_)\n",
    "                Children[cid2][2].append(2*score_)\n",
    "                Children[cid3][2].append(2*score_)         \n",
    "            #如果是双胞胎\n",
    "            #以双胞胎最先出现的为主\n",
    "        elif cf[i] <= 45000 and cf[i] not in done_list:\n",
    "            if cf[i] % 2 == 1:\n",
    "                cid1 = cf[i]\n",
    "                cid2 = cf[i] + 1\n",
    "                done_list.append(cid2)\n",
    "            else:\n",
    "                cid1 = cf[i] - 1\n",
    "                cid2 = cf[i]\n",
    "                done_list.append(cid1)\n",
    "            if cid1 in list(cf):\n",
    "                score_ = 2*(cf.shape[0] - list(cf).index(cid1))\n",
    "            else:\n",
    "                score_ = -1\n",
    "            if cid2 in list(cf):\n",
    "                score_ += 2*(cf.shape[0] - list(cf).index(cid2))\n",
    "            else:\n",
    "                score_ += -1\n",
    "            #判断孩子(cid1)是否偏爱礼物(j)\n",
    "            index_twin_pref=index_of(Children[cid1][0],j)\n",
    "            #存在修改\n",
    "            if index_twin_pref>-1:\n",
    "                Children[cid1][2][index_twin_pref]=3*score_\n",
    "                Children[cid2][2][index_twin_pref]=3*score_\n",
    "            else:\n",
    "                Children[cid1][1].append(-6)\n",
    "                Children[cid2][1].append(-6)\n",
    "                Children[cid1][2].append(3*score_)\n",
    "                Children[cid2][2].append(3*score_)\n",
    "            #如果是普通孩子\n",
    "        elif cf[i] > 45000:\n",
    "            #判断孩子(cid1)是否偏爱礼物(j)\n",
    "            cid=cf[i]\n",
    "            score_=2*(cf.shape[0] - i)\n",
    "            index_child_pref=index_of(Children[cid][0],j)\n",
    "            if index_child_pref>-1:\n",
    "                Children[cid][2][index_child_pref]=6*score_\n",
    "            else:\n",
    "                Children[cid][1].append(-6)\n",
    "                Children[cid][2].append(6*score_)"
   ]
  },
  {
   "cell_type": "markdown",
   "metadata": {},
   "source": [
    "### 验证更改后是否正确(注：其中Children是我改的，Children1是原来的）\n",
    "```python\n",
    "import random\n",
    "def validat_mychange(cid):\n",
    "    #判断giftid的数量是否相等\n",
    "    print(len(Children1[cid].prefer_dict.keys()))\n",
    "    print(len(Children[cid][0]))\n",
    "    #判断里面的值是否相等，随机取的一个\n",
    "    random_giftid=random.choice(Children[cid][0])\n",
    "    print(random_giftid)\n",
    "    print(Children1[cid].prefer_dict[random_giftid])\n",
    "    print(Children[cid][1][Children[cid][0].index(random_giftid)])\n",
    "    print(Children[cid][2][Children[cid][0].index(random_giftid)])\n",
    "```"
   ]
  },
  {
   "cell_type": "markdown",
   "metadata": {},
   "source": [
    "### Summarize\n",
    "至此有关Children的处理已经完毕，需要改进的是里面Score的计算。以后你们可以用本页中的Children了，我已经验证了准确性。速度加快了不少。\n",
    "与原来的Children对比详见：Compare_Children.ipynb"
   ]
  },
  {
   "cell_type": "markdown",
   "metadata": {},
   "source": [
    "### 下面的还未改完，晚点再改，我这都改完了就只剩下里面的参数调节了，和最大限度运用目标函数，将Score分摊到Cost上，这是创新点也是难点。"
   ]
  },
  {
   "cell_type": "markdown",
   "metadata": {},
   "source": [
    "### 最小Cost最大流"
   ]
  },
  {
   "cell_type": "code",
   "execution_count": null,
   "metadata": {},
   "outputs": [],
   "source": [
    "from ortools.graph import pywrapgraph"
   ]
  },
  {
   "cell_type": "code",
   "execution_count": null,
   "metadata": {},
   "outputs": [],
   "source": [
    "W_CHILD = 10000\n",
    "W_GIFTS = 0"
   ]
  },
  {
   "cell_type": "code",
   "execution_count": null,
   "metadata": {},
   "outputs": [],
   "source": [
    "min_cost_flow_1 = pywrapgraph.SimpleMinCostFlow()\n",
    "\n",
    "start_nodes = []\n",
    "end_nodes = []\n",
    "capacities = []\n",
    "unit_costs = []"
   ]
  },
  {
   "cell_type": "code",
   "execution_count": null,
   "metadata": {},
   "outputs": [],
   "source": [
    "#构建StartNodes\n",
    "# triplets\n",
    "for i in range(0, 5001, 3):\n",
    "    for g in Children[i][0]:\n",
    "        start_nodes.append(1000000+g)\n",
    "        end_nodes.append(i)\n",
    "        capacities.append(3)\n",
    "        giftid_index=index_of(Children[i][0],g)\n",
    "        unit_costs.append(-W_CHILD*(Children[i][1][giftid_index] + 6)-W_GIFTS*(Children[i][2][giftid_index] + 6))\n",
    "        \n",
    "# triplets\n",
    "for i in range(5001, 45001, 2):\n",
    "    for g in Children[i][0]:\n",
    "        start_nodes.append(1000000+g)\n",
    "        end_nodes.append(i)\n",
    "        capacities.append(2)\n",
    "        giftid_index=index_of(Children[i][0],g)\n",
    "        unit_costs.append(-W_CHILD*(Children[i][1][giftid_index] + 6)-W_GIFTS*(Children[i][2][giftid_index] + 6))\n",
    "        \n",
    "# other children\n",
    "for i in range(45001, 1000000):\n",
    "    \n",
    "    for g in Children[i][0]:\n",
    "        start_nodes.append(1000000+g)\n",
    "        end_nodes.append(i)\n",
    "        capacities.append(1)\n",
    "        giftid_index=index_of(Children[i][0],g)\n",
    "        unit_costs.append(-W_CHILD*(Children[i][1][giftid_index] + 6)-W_GIFTS*(Children[i][2][giftid_index] + 6))\n"
   ]
  },
  {
   "cell_type": "code",
   "execution_count": null,
   "metadata": {},
   "outputs": [],
   "source": [
    "#开始画图了\n",
    "# add Arc（画边，用上面的start_nodes-->end_nodes,即gift-->childern)\n",
    "# gift -> children\n",
    "for i in range(len(start_nodes)):\n",
    "    min_cost_flow_1.AddArcWithCapacityAndUnitCost(\n",
    "        int(start_nodes[i]), int(end_nodes[i]), int(capacities[i]), int(unit_costs[i])\n",
    "    )\n"
   ]
  },
  {
   "cell_type": "code",
   "execution_count": null,
   "metadata": {},
   "outputs": [],
   "source": [
    "# 1001000结点为孩子节点的集合结点，添加从每个收到礼物的孩子结点到此节点的一条路径，capacity=礼物数，cost为0,Good!\n",
    "# children -> 1001000 : collection(孩子到终止节点)\n",
    "\n",
    "for i in range(0, 5001, 3):\n",
    "    min_cost_flow_1.AddArcWithCapacityAndUnitCost(\n",
    "        int(i), int(1001000), int(3), int(0)\n",
    "    )\n",
    "for i in range(5001, 45001, 2):\n",
    "    min_cost_flow_1.AddArcWithCapacityAndUnitCost(\n",
    "        int(i), int(1001000), int(2), int(0)\n",
    "    )\n",
    "for i in range(45001, 1000000):\n",
    "    min_cost_flow_1.AddArcWithCapacityAndUnitCost(\n",
    "        int(i), int(1001000), int(1), int(0)\n",
    "    )"
   ]
  },
  {
   "cell_type": "code",
   "execution_count": null,
   "metadata": {},
   "outputs": [],
   "source": [
    "#gift结点到终止节点capacity=1000 and cost=0\n",
    "# gift -> 1001001 : dust_gift\n",
    "# 1001001结点为礼物结点的汇总节点，添加从每个礼物结点到汇总节点的容量为1000花费为0的通路\n",
    "for i in range(1000):\n",
    "    min_cost_flow_1.AddArcWithCapacityAndUnitCost(\n",
    "        int(1000000+i), int(1001001), int(1000), int(0)\n",
    "    )\n",
    "    "
   ]
  },
  {
   "cell_type": "code",
   "execution_count": null,
   "metadata": {},
   "outputs": [],
   "source": [
    "# 1001001 -> 1001000 : dust_path\n",
    "# 添加从开始结点的汇总节点到结束结点的汇总节点的容量为1000000花费为0的通路\n",
    "min_cost_flow_1.AddArcWithCapacityAndUnitCost(\n",
    "        int(1001001), int(1001000), int(1000000), int(0)\n",
    "    )"
   ]
  },
  {
   "cell_type": "code",
   "execution_count": null,
   "metadata": {},
   "outputs": [],
   "source": [
    "# add gift Supply\n",
    "for i in range(1000):\n",
    "    min_cost_flow_1.SetNodeSupply(int(1000000+i), int(1000))"
   ]
  },
  {
   "cell_type": "code",
   "execution_count": null,
   "metadata": {},
   "outputs": [],
   "source": [
    "# add children Supply\n",
    "for i in range(0, 5001, 3):\n",
    "    min_cost_flow_1.SetNodeSupply(int(i), int(0))\n",
    "for i in range(5001, 45001, 2):\n",
    "    min_cost_flow_1.SetNodeSupply(int(i), int(0))\n",
    "for i in range(45001, 1000000):\n",
    "    min_cost_flow_1.SetNodeSupply(int(i), int(0))"
   ]
  },
  {
   "cell_type": "code",
   "execution_count": null,
   "metadata": {},
   "outputs": [],
   "source": [
    "#孩子的终点处supply为-1000000\n",
    "min_cost_flow_1.SetNodeSupply(int(1001000), int(-1000000)) \n",
    "#gift的终点处supply为0\n",
    "min_cost_flow_1.SetNodeSupply(int(1001001), int(0)) "
   ]
  },
  {
   "cell_type": "code",
   "execution_count": null,
   "metadata": {},
   "outputs": [],
   "source": [
    "assignment = [-1]*1000000\n",
    "twins_differ = []\n",
    "triplets_differ = []\n",
    "\n",
    "for i in range(min_cost_flow_1.NumArcs()):\n",
    "    if min_cost_flow_1.Flow(i) != 0 and min_cost_flow_1.Head(i) < 1000000:\n",
    "        c = min_cost_flow_1.Head(i)\n",
    "        g = min_cost_flow_1.Tail(i)\n",
    "        f = min_cost_flow_1.Flow(i)\n",
    "\n",
    "        if c >= 45001:\n",
    "            assignment[c] = g - 1000000\n",
    "\n",
    "        elif c >= 5001:\n",
    "            if f == 1:\n",
    "                if assignment[c] == -1:\n",
    "                    assignment[c] = g - 1000000\n",
    "                    twins_differ.append([c, c+1])\n",
    "                else:\n",
    "                    assignment[c+1] = g - 1000000\n",
    "            elif f == 2:\n",
    "                assignment[c] = g - 1000000\n",
    "                assignment[c+1] = g - 1000000\n",
    "        else:\n",
    "            if f == 1:\n",
    "                if assignment[c] == -1:\n",
    "                    assignment[c] = g - 1000000\n",
    "                    triplets_differ.append([c, c+1, c+2])\n",
    "                elif assignment[c+1] == -1:\n",
    "                    assignment[c+1] = g - 1000000\n",
    "                else:\n",
    "                    assignment[c+2] = g - 1000000\n",
    "            elif f == 2:\n",
    "                if assignment[c] == -1:\n",
    "                    assignment[c] = g - 1000000\n",
    "                    assignment[c+1] = g - 1000000\n",
    "                    triplets_differ.append([c, c+1, c+2])\n",
    "                else:\n",
    "                    assignment[c+1] = g - 1000000\n",
    "                    assignment[c+2] = g - 1000000\n",
    "            elif f == 3:\n",
    "                assignment[c] = g - 1000000\n",
    "                assignment[c+1] = g - 1000000\n",
    "                assignment[c+2] = g - 1000000\n",
    "   \n",
    "#assignment[i]好像表示的是礼物id,还没细看\n",
    "CHILD_HAPPINESS = sum([Children[i].happiness(assignment[i])[0] for i in range(1000000)])*10\n",
    "SANTA_HAPPINESS = sum([Children[i].happiness(assignment[i])[1] for i in range(1000000)])\n",
    "OBJ = CHILD_HAPPINESS**3 + SANTA_HAPPINESS**3\n",
    "print(W_CHILD, W_GIFTS, CHILD_HAPPINESS, SANTA_HAPPINESS, OBJ)\n",
    "print(OBJ / (12000000000**3))\n"
   ]
  }
 ],
 "metadata": {
  "kernelspec": {
   "display_name": "Python 3",
   "language": "python",
   "name": "python3"
  },
  "language_info": {
   "codemirror_mode": {
    "name": "ipython",
    "version": 3
   },
   "file_extension": ".py",
   "mimetype": "text/x-python",
   "name": "python",
   "nbconvert_exporter": "python",
   "pygments_lexer": "ipython3",
   "version": "3.6.5"
  }
 },
 "nbformat": 4,
 "nbformat_minor": 2
}
